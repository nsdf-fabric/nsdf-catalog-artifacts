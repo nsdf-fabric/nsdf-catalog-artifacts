{
 "cells": [
  {
   "cell_type": "markdown",
   "id": "0f98d899-793a-4c68-90ed-26fb9d4e8a04",
   "metadata": {},
   "source": [
    "# Figure 5: Obsering Performance Degradation as the Index-Size Grows\n",
    "\n",
    "This analysis shows the performance degradation for ingest rates as the index grows on an m3.tiny instance.\n",
    "We include our measurements and the code to generate the figures."
   ]
  },
  {
   "cell_type": "markdown",
   "id": "e1a42c5f-6786-472a-a0c4-a0c6b4b966fd",
   "metadata": {},
   "source": [
    "### Prerequisites\n",
    "\n",
    "To recreate the figure only the dependencies along with the datasets in \"../data/figure5\" are required."
   ]
  },
  {
   "cell_type": "raw",
   "id": "13b94fab-8d53-4089-8e1f-a0f7afdb303f",
   "metadata": {},
   "source": [
    "# change to code cell to run\n",
    "!pip install -r ../requirements.txt"
   ]
  },
  {
   "cell_type": "markdown",
   "id": "075626bc-48f4-425c-bcfd-c3f0db4a69bd",
   "metadata": {},
   "source": [
    "Ensure the following imports work:"
   ]
  },
  {
   "cell_type": "code",
   "execution_count": 32,
   "id": "945f4147-6edf-43a1-9b70-2afa9abdff70",
   "metadata": {},
   "outputs": [],
   "source": [
    "import pandas as pd\n",
    "import seaborn as sns\n",
    "import matplotlib.pylab as plt"
   ]
  },
  {
   "cell_type": "markdown",
   "id": "bd2c4ef3-def5-441f-b834-610e58ee0d32",
   "metadata": {},
   "source": [
    "Specify data path (default is measurements series used in the paper):"
   ]
  },
  {
   "cell_type": "code",
   "execution_count": 42,
   "id": "43aeee7b-ac3f-4be8-a22e-4ebed2a887e3",
   "metadata": {},
   "outputs": [],
   "source": [
    "DATA_DIR = \"../data/figure5/2022-08-22T22:20:58.760324_m3.quad_heartily-thorough-llama\""
   ]
  },
  {
   "cell_type": "markdown",
   "id": "9daf41c0-e5f1-4ca4-885f-70240a6150ed",
   "metadata": {},
   "source": [
    "To repeat the measurements prepare random datasets with 100.000 entries each and take the time it takes for the following query to complete:\n",
    "\n",
    "    client.execute('INSERT INTO nsdf.catalog (catalog, bucket, name, size, last_modified, etag) VALUES', list(entries))\n",
    "    \n",
    "To monitor the resulting disk utilization shutil was used before and after each INSERT-query.\n",
    "\n",
    "    import shutil\n",
    "    shutil.disk_usage(storage_path_to_monitor)\n",
    "    \n",
    "The storage path to monitor when using Clickhouse as a backend is typically \"/var/lib/clickhouse\"."
   ]
  },
  {
   "cell_type": "markdown",
   "id": "4c007dc4-68ab-4fe1-b078-2b23fdc2aaff",
   "metadata": {},
   "source": [
    "## Loading and Preparing the Data"
   ]
  },
  {
   "cell_type": "code",
   "execution_count": 44,
   "id": "4fce220b-a57e-4ba0-8588-b94726afe3f5",
   "metadata": {},
   "outputs": [
    {
     "data": {
      "text/html": [
       "<div>\n",
       "<style scoped>\n",
       "    .dataframe tbody tr th:only-of-type {\n",
       "        vertical-align: middle;\n",
       "    }\n",
       "\n",
       "    .dataframe tbody tr th {\n",
       "        vertical-align: top;\n",
       "    }\n",
       "\n",
       "    .dataframe thead th {\n",
       "        text-align: right;\n",
       "    }\n",
       "</style>\n",
       "<table border=\"1\" class=\"dataframe\">\n",
       "  <thead>\n",
       "    <tr style=\"text-align: right;\">\n",
       "      <th></th>\n",
       "      <th>Unnamed: 0</th>\n",
       "      <th>iteration</th>\n",
       "      <th>elapsed</th>\n",
       "      <th>num_inserts</th>\n",
       "      <th>type</th>\n",
       "      <th>ops/sec</th>\n",
       "      <th>disk_total</th>\n",
       "      <th>disk_free</th>\n",
       "      <th>disk_used</th>\n",
       "      <th>disk_free -h</th>\n",
       "      <th>disk_percent_free</th>\n",
       "      <th>disk_percent_used</th>\n",
       "      <th>index_size_before</th>\n",
       "    </tr>\n",
       "  </thead>\n",
       "  <tbody>\n",
       "    <tr>\n",
       "      <th>0</th>\n",
       "      <td>0</td>\n",
       "      <td>0</td>\n",
       "      <td>0.665131</td>\n",
       "      <td>100000</td>\n",
       "      <td>ingest</td>\n",
       "      <td>150346.217194</td>\n",
       "      <td>20617822208</td>\n",
       "      <td>8722362368</td>\n",
       "      <td>11878682624</td>\n",
       "      <td>8.1 GiB</td>\n",
       "      <td>0.423050</td>\n",
       "      <td>0.576137</td>\n",
       "      <td>9000000</td>\n",
       "    </tr>\n",
       "    <tr>\n",
       "      <th>1</th>\n",
       "      <td>1</td>\n",
       "      <td>1</td>\n",
       "      <td>0.674334</td>\n",
       "      <td>100000</td>\n",
       "      <td>ingest</td>\n",
       "      <td>148294.513955</td>\n",
       "      <td>20617822208</td>\n",
       "      <td>8683728896</td>\n",
       "      <td>11917316096</td>\n",
       "      <td>8.1 GiB</td>\n",
       "      <td>0.421176</td>\n",
       "      <td>0.578010</td>\n",
       "      <td>9100000</td>\n",
       "    </tr>\n",
       "    <tr>\n",
       "      <th>2</th>\n",
       "      <td>2</td>\n",
       "      <td>2</td>\n",
       "      <td>0.570133</td>\n",
       "      <td>100000</td>\n",
       "      <td>ingest</td>\n",
       "      <td>175397.673752</td>\n",
       "      <td>20617822208</td>\n",
       "      <td>8666656768</td>\n",
       "      <td>11934388224</td>\n",
       "      <td>8.1 GiB</td>\n",
       "      <td>0.420348</td>\n",
       "      <td>0.578838</td>\n",
       "      <td>9200000</td>\n",
       "    </tr>\n",
       "    <tr>\n",
       "      <th>3</th>\n",
       "      <td>3</td>\n",
       "      <td>3</td>\n",
       "      <td>0.641891</td>\n",
       "      <td>100000</td>\n",
       "      <td>ingest</td>\n",
       "      <td>155789.646949</td>\n",
       "      <td>20617822208</td>\n",
       "      <td>8649506816</td>\n",
       "      <td>11951538176</td>\n",
       "      <td>8.1 GiB</td>\n",
       "      <td>0.419516</td>\n",
       "      <td>0.579670</td>\n",
       "      <td>9300000</td>\n",
       "    </tr>\n",
       "    <tr>\n",
       "      <th>4</th>\n",
       "      <td>4</td>\n",
       "      <td>4</td>\n",
       "      <td>0.650083</td>\n",
       "      <td>100000</td>\n",
       "      <td>ingest</td>\n",
       "      <td>153826.489851</td>\n",
       "      <td>20617822208</td>\n",
       "      <td>8632434688</td>\n",
       "      <td>11968610304</td>\n",
       "      <td>8.0 GiB</td>\n",
       "      <td>0.418688</td>\n",
       "      <td>0.580498</td>\n",
       "      <td>9400000</td>\n",
       "    </tr>\n",
       "  </tbody>\n",
       "</table>\n",
       "</div>"
      ],
      "text/plain": [
       "   Unnamed: 0  iteration   elapsed  num_inserts    type        ops/sec  \\\n",
       "0           0          0  0.665131       100000  ingest  150346.217194   \n",
       "1           1          1  0.674334       100000  ingest  148294.513955   \n",
       "2           2          2  0.570133       100000  ingest  175397.673752   \n",
       "3           3          3  0.641891       100000  ingest  155789.646949   \n",
       "4           4          4  0.650083       100000  ingest  153826.489851   \n",
       "\n",
       "    disk_total   disk_free    disk_used disk_free -h  disk_percent_free  \\\n",
       "0  20617822208  8722362368  11878682624      8.1 GiB           0.423050   \n",
       "1  20617822208  8683728896  11917316096      8.1 GiB           0.421176   \n",
       "2  20617822208  8666656768  11934388224      8.1 GiB           0.420348   \n",
       "3  20617822208  8649506816  11951538176      8.1 GiB           0.419516   \n",
       "4  20617822208  8632434688  11968610304      8.0 GiB           0.418688   \n",
       "\n",
       "   disk_percent_used  index_size_before  \n",
       "0           0.576137            9000000  \n",
       "1           0.578010            9100000  \n",
       "2           0.578838            9200000  \n",
       "3           0.579670            9300000  \n",
       "4           0.580498            9400000  "
      ]
     },
     "execution_count": 44,
     "metadata": {},
     "output_type": "execute_result"
    }
   ],
   "source": [
    "df_ingest = pd.read_csv(f\"{DATA_DIR}/ingest_measurements.csv\")\n",
    "df_ingest.head()"
   ]
  },
  {
   "cell_type": "code",
   "execution_count": 40,
   "id": "d203ecb2-22c6-4c31-8f7d-6f2173f7cede",
   "metadata": {},
   "outputs": [],
   "source": [
    "nbins = 25\n",
    "\n",
    "df_ingest[\"index_size_bin\"] = pd.cut(df_ingest[\"index_size_before\"], bins=nbins)\n",
    "df_ingest[\"elapsed_bin\"] = pd.cut(df_ingest[\"elapsed\"], bins=nbins)\n",
    "df_ingest[\"ops/sec_bin\"] = pd.cut(df_ingest[\"ops/sec\"], bins=nbins)"
   ]
  },
  {
   "cell_type": "markdown",
   "id": "530000e8-941e-4b84-94cc-dba0367f802b",
   "metadata": {},
   "source": [
    "## Generating Figure 5"
   ]
  },
  {
   "cell_type": "code",
   "execution_count": 41,
   "id": "c01a83f4-5b72-4689-99ed-58b44f484c59",
   "metadata": {},
   "outputs": [
    {
     "data": {
      "text/plain": [
       "[Text(58.222222222222214, 0.5, 'Ingest Rate: Entries/s'),\n",
       " Text(0.5, 36.72222222222221, 'Index Size (Million Entries)')]"
      ]
     },
     "execution_count": 41,
     "metadata": {},
     "output_type": "execute_result"
    },
    {
     "data": {
      "image/png": "[encoded data removed]",
      "text/plain": [
       "<Figure size 700x600 with 1 Axes>"
      ]
     },
     "metadata": {},
     "output_type": "display_data"
    }
   ],
   "source": [
    "import seaborn as sns\n",
    "import humanize\n",
    "from matplotlib import rcParams\n",
    "\n",
    "\n",
    "\n",
    "df = df_ingest\n",
    "\n",
    "yfieldname = \"ops/sec_bin\"\n",
    "ct = pd.crosstab(df[yfieldname], df[\"index_size_bin\"])\n",
    "ct = ct.sort_values(yfieldname, ascending=False)\n",
    "\n",
    "def custom_round(x, base=1000):\n",
    "    return int(base * round(float(x)/base))\n",
    "\n",
    "\n",
    "xticklabels = pd.Series(ct.columns.values).apply(lambda x:  int(x.left/1000000) )\n",
    "yticklabels = pd.Series(ct.index.values).apply(lambda x: humanize.intcomma(custom_round(((x.left +  x.right)/2))) )\n",
    "\n",
    "rcParams['figure.figsize'] = 7, 6\n",
    "\n",
    "ax = sns.heatmap(\n",
    "    ct, \n",
    "    xticklabels=xticklabels,\n",
    "    yticklabels=yticklabels,\n",
    "    cbar=False\n",
    ")\n",
    "\n",
    "ax.set(\n",
    "    ylabel='Ingest Rate: Entries/s', \n",
    "    xlabel='Index Size (Million Entries)'\n",
    ")"
   ]
  }
 ],
 "metadata": {
  "kernelspec": {
   "display_name": "Python 3 (ipykernel)",
   "language": "python",
   "name": "python3"
  },
  "language_info": {
   "codemirror_mode": {
    "name": "ipython",
    "version": 3
   },
   "file_extension": ".py",
   "mimetype": "text/x-python",
   "name": "python",
   "nbconvert_exporter": "python",
   "pygments_lexer": "ipython3",
   "version": "3.9.13"
  }
 },
 "nbformat": 4,
 "nbformat_minor": 5
}
