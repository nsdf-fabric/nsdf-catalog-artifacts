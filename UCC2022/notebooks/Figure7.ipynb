{
 "cells": [
  {
   "cell_type": "markdown",
   "id": "34b04efb-f578-46de-af2d-ffcb0fdb5d7e",
   "metadata": {},
   "source": [
    "# Figure 7: Ingest-Times for different Jetstream2 Instance Types\n",
    "\n",
    "Total time taken to ingest 1.6 billion entries on different instance types using Clickhouse and Jetstream2\n",
    "We include our measurements and the code to generate the figures."
   ]
  },
  {
   "cell_type": "markdown",
   "id": "04491d5a-1e09-404f-841b-6466d129e246",
   "metadata": {},
   "source": [
    "### Prerequisites\n",
    "\n",
    "To recreate the figure only the dependencies along with the datasets in \"../data/figure5\" are required."
   ]
  },
  {
   "cell_type": "raw",
   "id": "ef1dadbb-72db-43a4-b455-c07c68aba8cc",
   "metadata": {},
   "source": [
    "# change to code cell to run\n",
    "!pip install -r ../requirements.txt"
   ]
  },
  {
   "cell_type": "markdown",
   "id": "698a3c3b-575a-4497-87ac-66f5df617d10",
   "metadata": {},
   "source": [
    "Ensure the following imports work:"
   ]
  },
  {
   "cell_type": "code",
   "execution_count": 24,
   "id": "3d501906-2fa5-42e0-a489-f475052f92d4",
   "metadata": {},
   "outputs": [],
   "source": [
    "import pandas as pd\n",
    "import seaborn as sns\n",
    "import glob\n",
    "import matplotlib.pylab as plt"
   ]
  },
  {
   "cell_type": "markdown",
   "id": "d8c11a55-35f9-46c1-981c-f455215da2de",
   "metadata": {},
   "source": [
    "Specify data path (default is measurements series used in the paper):"
   ]
  },
  {
   "cell_type": "code",
   "execution_count": 25,
   "id": "58cde489-aaeb-4ada-b434-6309fb197a9d",
   "metadata": {},
   "outputs": [],
   "source": [
    "DATA_DIR = \"../data/figure6\" # Figure 6 and Figure 7 share the same raw data source"
   ]
  },
  {
   "cell_type": "markdown",
   "id": "4c4178a2-f3e8-4118-a468-0aa26ea0319c",
   "metadata": {
    "tags": []
   },
   "source": [
    "## Loading and Preparing the Data"
   ]
  },
  {
   "cell_type": "code",
   "execution_count": 26,
   "id": "77c156e7-5d03-46bb-b5d7-16c6e78838fc",
   "metadata": {},
   "outputs": [
    {
     "data": {
      "text/plain": [
       "['../data/figure6/2022-08-24T00:45:32.655277_m3.medium_gladly-united-swift/measurements_cmdline_ingest.csv',\n",
       " '../data/figure6/2022-08-31T00:49:38.286420_m3.quad_blatantly-intense-bison/measurements_cmdline_ingest.csv',\n",
       " '../data/figure6/2022-08-31T07:56:56.839123_m3.large_generally-dashing-mollusk/measurements_cmdline_ingest.csv',\n",
       " '../data/figure6/2022-08-31T08:52:30.274943_m3.xl_roughly-renewed-buzzard/measurements_cmdline_ingest.csv',\n",
       " '../data/figure6/2022-08-31T10:02:04.207596_m3.2xl_simply-talented-pangolin/measurements_cmdline_ingest.csv',\n",
       " '../data/figure6/2022-08-31T15:05:10.206125_m3.tiny_jointly-cute-heron/measurements_cmdline_ingest.csv',\n",
       " '../data/figure6/2022-08-31T17:13:24.111538_m3.small_heavily-new-piglet/measurements_cmdline_ingest.csv']"
      ]
     },
     "execution_count": 26,
     "metadata": {},
     "output_type": "execute_result"
    }
   ],
   "source": [
    "lst = glob.glob(f\"{DATA_DIR}/*/*.csv\")\n",
    "lst"
   ]
  },
  {
   "cell_type": "code",
   "execution_count": 27,
   "id": "f928796e-639d-4200-ab8d-ece7fddbf9b9",
   "metadata": {},
   "outputs": [
    {
     "name": "stdout",
     "output_type": "stream",
     "text": [
      "['2022-08-24T00:45:32.655277', 'm3.medium', 'gladly-united-swift']\n",
      "['2022-08-31T00:49:38.286420', 'm3.quad', 'blatantly-intense-bison']\n",
      "['2022-08-31T07:56:56.839123', 'm3.large', 'generally-dashing-mollusk']\n",
      "['2022-08-31T08:52:30.274943', 'm3.xl', 'roughly-renewed-buzzard']\n",
      "['2022-08-31T10:02:04.207596', 'm3.2xl', 'simply-talented-pangolin']\n",
      "['2022-08-31T15:05:10.206125', 'm3.tiny', 'jointly-cute-heron']\n",
      "['2022-08-31T17:13:24.111538', 'm3.small', 'heavily-new-piglet']\n"
     ]
    }
   ],
   "source": [
    "def get_info_from_filename(filename):\n",
    "    info =  filename.split(\"/\")[-2].split(\"_\")\n",
    "    print(info)\n",
    "    return info\n",
    "\n",
    "\n",
    "totals = []\n",
    "\n",
    "dfs = []\n",
    "\n",
    "for filename in lst:\n",
    "    df = pd.read_csv(filename)\n",
    "    \n",
    "    filename_info = get_info_from_filename(filename)\n",
    "    \n",
    "    df.columns = [\"Filename\", \"Filesize\", \"Entries\", \"Start\", \"End\"]\n",
    "\n",
    "    df[\"Start\"] = pd.to_datetime(df[\"Start\"])\n",
    "    df[\"End\"] = pd.to_datetime(df[\"End\"])\n",
    "\n",
    "    df[\"Elapsed (s)\"] = (df[\"End\"] - df[\"Start\"]).apply(lambda x: x.total_seconds())\n",
    "\n",
    "    df[\"Entries/s\"] = df[\"Entries\"] / df[\"Elapsed (s)\"]\n",
    "\n",
    "    df[\"Index Size\"] = df[\"Entries\"].cumsum()\n",
    "    dfs.append(df)\n",
    "    \n",
    "    \n",
    "    \n",
    "    totals_entry = {\n",
    "        \"Start\": df[\"Start\"].min(),\n",
    "        \"End\": df[\"Start\"].max(),\n",
    "        \"Instance Type\": filename_info[1],\n",
    "        \"Experiment\": \"_\".join(filename_info)\n",
    "    } \n",
    "    totals_entry[\"Elapsed\"] =  (totals_entry[\"End\"] - totals_entry[\"Start\"]).total_seconds() \n",
    "    \n",
    "    totals.append(totals_entry)"
   ]
  },
  {
   "cell_type": "code",
   "execution_count": 28,
   "id": "eed925d2-8901-4f9d-8e83-9affe33db10c",
   "metadata": {},
   "outputs": [
    {
     "data": {
      "text/html": [
       "<div>\n",
       "<style scoped>\n",
       "    .dataframe tbody tr th:only-of-type {\n",
       "        vertical-align: middle;\n",
       "    }\n",
       "\n",
       "    .dataframe tbody tr th {\n",
       "        vertical-align: top;\n",
       "    }\n",
       "\n",
       "    .dataframe thead th {\n",
       "        text-align: right;\n",
       "    }\n",
       "</style>\n",
       "<table border=\"1\" class=\"dataframe\">\n",
       "  <thead>\n",
       "    <tr style=\"text-align: right;\">\n",
       "      <th></th>\n",
       "      <th>Instance Type</th>\n",
       "      <th>Start</th>\n",
       "      <th>End</th>\n",
       "      <th>Experiment</th>\n",
       "      <th>Elapsed</th>\n",
       "    </tr>\n",
       "  </thead>\n",
       "  <tbody>\n",
       "    <tr>\n",
       "      <th>0</th>\n",
       "      <td>m3.tiny</td>\n",
       "      <td>2022-10-27 15:05:22.286806</td>\n",
       "      <td>2022-10-27 16:36:26.838775</td>\n",
       "      <td>2022-08-31T15:05:10.206125_m3.tiny_jointly-cut...</td>\n",
       "      <td>5464.551969</td>\n",
       "    </tr>\n",
       "    <tr>\n",
       "      <th>1</th>\n",
       "      <td>m3.small</td>\n",
       "      <td>2022-10-27 17:13:37.745847</td>\n",
       "      <td>2022-10-27 18:08:51.700834</td>\n",
       "      <td>2022-08-31T17:13:24.111538_m3.small_heavily-ne...</td>\n",
       "      <td>3313.954987</td>\n",
       "    </tr>\n",
       "    <tr>\n",
       "      <th>2</th>\n",
       "      <td>m3.quad</td>\n",
       "      <td>2022-10-27 00:51:08.130768</td>\n",
       "      <td>2022-10-27 01:26:37.189017</td>\n",
       "      <td>2022-08-31T00:49:38.286420_m3.quad_blatantly-i...</td>\n",
       "      <td>2129.058249</td>\n",
       "    </tr>\n",
       "    <tr>\n",
       "      <th>3</th>\n",
       "      <td>m3.medium</td>\n",
       "      <td>2022-10-27 00:45:26.262000</td>\n",
       "      <td>2022-10-27 01:18:09.532648</td>\n",
       "      <td>2022-08-24T00:45:32.655277_m3.medium_gladly-un...</td>\n",
       "      <td>1963.270648</td>\n",
       "    </tr>\n",
       "    <tr>\n",
       "      <th>4</th>\n",
       "      <td>m3.large</td>\n",
       "      <td>2022-10-27 07:57:13.326449</td>\n",
       "      <td>2022-10-27 08:28:43.739828</td>\n",
       "      <td>2022-08-31T07:56:56.839123_m3.large_generally-...</td>\n",
       "      <td>1890.413379</td>\n",
       "    </tr>\n",
       "    <tr>\n",
       "      <th>5</th>\n",
       "      <td>m3.xl</td>\n",
       "      <td>2022-10-27 08:53:32.780535</td>\n",
       "      <td>2022-10-27 09:24:51.791268</td>\n",
       "      <td>2022-08-31T08:52:30.274943_m3.xl_roughly-renew...</td>\n",
       "      <td>1879.010733</td>\n",
       "    </tr>\n",
       "    <tr>\n",
       "      <th>6</th>\n",
       "      <td>m3.2xl</td>\n",
       "      <td>2022-10-27 10:04:47.908450</td>\n",
       "      <td>2022-10-27 10:35:57.596162</td>\n",
       "      <td>2022-08-31T10:02:04.207596_m3.2xl_simply-talen...</td>\n",
       "      <td>1869.687712</td>\n",
       "    </tr>\n",
       "  </tbody>\n",
       "</table>\n",
       "</div>"
      ],
      "text/plain": [
       "  Instance Type                      Start                        End  \\\n",
       "0       m3.tiny 2022-10-27 15:05:22.286806 2022-10-27 16:36:26.838775   \n",
       "1      m3.small 2022-10-27 17:13:37.745847 2022-10-27 18:08:51.700834   \n",
       "2       m3.quad 2022-10-27 00:51:08.130768 2022-10-27 01:26:37.189017   \n",
       "3     m3.medium 2022-10-27 00:45:26.262000 2022-10-27 01:18:09.532648   \n",
       "4      m3.large 2022-10-27 07:57:13.326449 2022-10-27 08:28:43.739828   \n",
       "5         m3.xl 2022-10-27 08:53:32.780535 2022-10-27 09:24:51.791268   \n",
       "6        m3.2xl 2022-10-27 10:04:47.908450 2022-10-27 10:35:57.596162   \n",
       "\n",
       "                                          Experiment      Elapsed  \n",
       "0  2022-08-31T15:05:10.206125_m3.tiny_jointly-cut...  5464.551969  \n",
       "1  2022-08-31T17:13:24.111538_m3.small_heavily-ne...  3313.954987  \n",
       "2  2022-08-31T00:49:38.286420_m3.quad_blatantly-i...  2129.058249  \n",
       "3  2022-08-24T00:45:32.655277_m3.medium_gladly-un...  1963.270648  \n",
       "4  2022-08-31T07:56:56.839123_m3.large_generally-...  1890.413379  \n",
       "5  2022-08-31T08:52:30.274943_m3.xl_roughly-renew...  1879.010733  \n",
       "6  2022-08-31T10:02:04.207596_m3.2xl_simply-talen...  1869.687712  "
      ]
     },
     "execution_count": 28,
     "metadata": {},
     "output_type": "execute_result"
    }
   ],
   "source": [
    "total_df = pd.DataFrame(totals)\n",
    "\n",
    "total_df = total_df.set_index(\"Instance Type\")\n",
    "\n",
    "total_df = total_df.reindex([\n",
    "    'm3.tiny',\n",
    "    'm3.small',\n",
    "    'm3.quad',\n",
    "    'm3.medium',\n",
    "    'm3.large', \n",
    "    'm3.xl', \n",
    "    'm3.2xl', \n",
    "])\n",
    "total_df = total_df.reset_index()\n",
    "total_df"
   ]
  },
  {
   "cell_type": "markdown",
   "id": "a4c04ae2-1bff-4051-9cd1-50da24c00786",
   "metadata": {},
   "source": [
    "## Generating the Figure"
   ]
  },
  {
   "cell_type": "code",
   "execution_count": 29,
   "id": "ae6dd7de-8044-4cc9-b7af-08a566c9f759",
   "metadata": {},
   "outputs": [
    {
     "data": {
      "image/png": "[encoded data removed]",
      "text/plain": [
       "<Figure size 700x250 with 1 Axes>"
      ]
     },
     "metadata": {},
     "output_type": "display_data"
    }
   ],
   "source": [
    "import seaborn as sns\n",
    "import humanize\n",
    "from matplotlib import rcParams\n",
    "import matplotlib.pylab as plt\n",
    "\n",
    "rcParams['figure.figsize'] = (7, 2.5)\n",
    "sns.set_palette(\"colorblind\")\n",
    "\n",
    "tmp_df = total_df.copy()\n",
    "tmp_df = tmp_df.reset_index()\n",
    "\n",
    "tmp_df[\"Elapsed (Minutes)\"] = tmp_df[\"Elapsed\"] / 60\n",
    "ax = sns.barplot(data=tmp_df, x=\"Instance Type\", y=\"Elapsed (Minutes)\")\n",
    "\n",
    "\n",
    "plt.show()"
   ]
  }
 ],
 "metadata": {
  "kernelspec": {
   "display_name": "Python 3 (ipykernel)",
   "language": "python",
   "name": "python3"
  },
  "language_info": {
   "codemirror_mode": {
    "name": "ipython",
    "version": 3
   },
   "file_extension": ".py",
   "mimetype": "text/x-python",
   "name": "python",
   "nbconvert_exporter": "python",
   "pygments_lexer": "ipython3",
   "version": "3.9.13"
  }
 },
 "nbformat": 4,
 "nbformat_minor": 5
}
